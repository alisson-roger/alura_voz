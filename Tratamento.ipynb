{
 "cells": [
  {
   "cell_type": "markdown",
   "id": "c22e6fe8",
   "metadata": {},
   "source": [
    "# Importando dependências"
   ]
  },
  {
   "cell_type": "code",
   "execution_count": 1,
   "id": "631489fd",
   "metadata": {},
   "outputs": [],
   "source": [
    "import json \n",
    "import pandas as pd \n",
    "from pandas.io.json import json_normalize \n",
    "import warnings\n",
    "import numpy as np\n",
    "\n",
    "warnings.filterwarnings('ignore')\n",
    "pd.set_option('display.float_format', lambda x: '%.2f' % x)"
   ]
  },
  {
   "cell_type": "markdown",
   "id": "a76de195",
   "metadata": {},
   "source": [
    "# Acessando dados json"
   ]
  },
  {
   "cell_type": "code",
   "execution_count": 2,
   "id": "8383ba89",
   "metadata": {},
   "outputs": [
    {
     "data": {
      "text/html": [
       "<div><div id=3c140cd3-ffdb-4e0e-b083-c4a7da9cdf75 style=\"display:none; background-color:#9D6CFF; color:white; width:200px; height:30px; padding-left:5px; border-radius:4px; flex-direction:row; justify-content:space-around; align-items:center;\" onmouseover=\"this.style.backgroundColor='#BA9BF8'\" onmouseout=\"this.style.backgroundColor='#9D6CFF'\" onclick=\"window.commands?.execute('create-mitosheet-from-dataframe-output');\">See Full Dataframe in Mito</div> <script> if (window.commands?.hasCommand('create-mitosheet-from-dataframe-output')) document.getElementById('3c140cd3-ffdb-4e0e-b083-c4a7da9cdf75').style.display = 'flex' </script> <table border=\"1\" class=\"dataframe\">\n",
       "  <thead>\n",
       "    <tr style=\"text-align: right;\">\n",
       "      <th></th>\n",
       "      <th>customerID</th>\n",
       "      <th>Churn</th>\n",
       "      <th>customer</th>\n",
       "      <th>phone</th>\n",
       "      <th>internet</th>\n",
       "      <th>account</th>\n",
       "    </tr>\n",
       "  </thead>\n",
       "  <tbody>\n",
       "    <tr>\n",
       "      <th>0</th>\n",
       "      <td>0002-ORFBO</td>\n",
       "      <td>No</td>\n",
       "      <td>{'gender': 'Female', 'SeniorCitizen': 0, 'Partner': 'Yes', 'Dependents': 'Yes', 'tenure': 9}</td>\n",
       "      <td>{'PhoneService': 'Yes', 'MultipleLines': 'No'}</td>\n",
       "      <td>{'InternetService': 'DSL', 'OnlineSecurity': 'No', 'OnlineBackup': 'Yes', 'DeviceProtection': 'No', 'TechSupport': 'Yes', 'StreamingTV': 'Yes', 'StreamingMovies': 'No'}</td>\n",
       "      <td>{'Contract': 'One year', 'PaperlessBilling': 'Yes', 'PaymentMethod': 'Mailed check', 'Charges': {'Monthly': 65.6, 'Total': '593.3'}}</td>\n",
       "    </tr>\n",
       "    <tr>\n",
       "      <th>1</th>\n",
       "      <td>0003-MKNFE</td>\n",
       "      <td>No</td>\n",
       "      <td>{'gender': 'Male', 'SeniorCitizen': 0, 'Partner': 'No', 'Dependents': 'No', 'tenure': 9}</td>\n",
       "      <td>{'PhoneService': 'Yes', 'MultipleLines': 'Yes'}</td>\n",
       "      <td>{'InternetService': 'DSL', 'OnlineSecurity': 'No', 'OnlineBackup': 'No', 'DeviceProtection': 'No', 'TechSupport': 'No', 'StreamingTV': 'No', 'StreamingMovies': 'Yes'}</td>\n",
       "      <td>{'Contract': 'Month-to-month', 'PaperlessBilling': 'No', 'PaymentMethod': 'Mailed check', 'Charges': {'Monthly': 59.9, 'Total': '542.4'}}</td>\n",
       "    </tr>\n",
       "    <tr>\n",
       "      <th>2</th>\n",
       "      <td>0004-TLHLJ</td>\n",
       "      <td>Yes</td>\n",
       "      <td>{'gender': 'Male', 'SeniorCitizen': 0, 'Partner': 'No', 'Dependents': 'No', 'tenure': 4}</td>\n",
       "      <td>{'PhoneService': 'Yes', 'MultipleLines': 'No'}</td>\n",
       "      <td>{'InternetService': 'Fiber optic', 'OnlineSecurity': 'No', 'OnlineBackup': 'No', 'DeviceProtection': 'Yes', 'TechSupport': 'No', 'StreamingTV': 'No', 'StreamingMovies': 'No'}</td>\n",
       "      <td>{'Contract': 'Month-to-month', 'PaperlessBilling': 'Yes', 'PaymentMethod': 'Electronic check', 'Charges': {'Monthly': 73.9, 'Total': '280.85'}}</td>\n",
       "    </tr>\n",
       "    <tr>\n",
       "      <th>3</th>\n",
       "      <td>0011-IGKFF</td>\n",
       "      <td>Yes</td>\n",
       "      <td>{'gender': 'Male', 'SeniorCitizen': 1, 'Partner': 'Yes', 'Dependents': 'No', 'tenure': 13}</td>\n",
       "      <td>{'PhoneService': 'Yes', 'MultipleLines': 'No'}</td>\n",
       "      <td>{'InternetService': 'Fiber optic', 'OnlineSecurity': 'No', 'OnlineBackup': 'Yes', 'DeviceProtection': 'Yes', 'TechSupport': 'No', 'StreamingTV': 'Yes', 'StreamingMovies': 'Yes'}</td>\n",
       "      <td>{'Contract': 'Month-to-month', 'PaperlessBilling': 'Yes', 'PaymentMethod': 'Electronic check', 'Charges': {'Monthly': 98.0, 'Total': '1237.85'}}</td>\n",
       "    </tr>\n",
       "    <tr>\n",
       "      <th>4</th>\n",
       "      <td>0013-EXCHZ</td>\n",
       "      <td>Yes</td>\n",
       "      <td>{'gender': 'Female', 'SeniorCitizen': 1, 'Partner': 'Yes', 'Dependents': 'No', 'tenure': 3}</td>\n",
       "      <td>{'PhoneService': 'Yes', 'MultipleLines': 'No'}</td>\n",
       "      <td>{'InternetService': 'Fiber optic', 'OnlineSecurity': 'No', 'OnlineBackup': 'No', 'DeviceProtection': 'No', 'TechSupport': 'Yes', 'StreamingTV': 'Yes', 'StreamingMovies': 'No'}</td>\n",
       "      <td>{'Contract': 'Month-to-month', 'PaperlessBilling': 'Yes', 'PaymentMethod': 'Mailed check', 'Charges': {'Monthly': 83.9, 'Total': '267.4'}}</td>\n",
       "    </tr>\n",
       "  </tbody>\n",
       "</table></div>"
      ],
      "text/plain": [
       "   customerID Churn                                           customer  \\\n",
       "0  0002-ORFBO    No  {'gender': 'Female', 'SeniorCitizen': 0, 'Part...   \n",
       "1  0003-MKNFE    No  {'gender': 'Male', 'SeniorCitizen': 0, 'Partne...   \n",
       "2  0004-TLHLJ   Yes  {'gender': 'Male', 'SeniorCitizen': 0, 'Partne...   \n",
       "3  0011-IGKFF   Yes  {'gender': 'Male', 'SeniorCitizen': 1, 'Partne...   \n",
       "4  0013-EXCHZ   Yes  {'gender': 'Female', 'SeniorCitizen': 1, 'Part...   \n",
       "\n",
       "                                             phone  \\\n",
       "0   {'PhoneService': 'Yes', 'MultipleLines': 'No'}   \n",
       "1  {'PhoneService': 'Yes', 'MultipleLines': 'Yes'}   \n",
       "2   {'PhoneService': 'Yes', 'MultipleLines': 'No'}   \n",
       "3   {'PhoneService': 'Yes', 'MultipleLines': 'No'}   \n",
       "4   {'PhoneService': 'Yes', 'MultipleLines': 'No'}   \n",
       "\n",
       "                                            internet  \\\n",
       "0  {'InternetService': 'DSL', 'OnlineSecurity': '...   \n",
       "1  {'InternetService': 'DSL', 'OnlineSecurity': '...   \n",
       "2  {'InternetService': 'Fiber optic', 'OnlineSecu...   \n",
       "3  {'InternetService': 'Fiber optic', 'OnlineSecu...   \n",
       "4  {'InternetService': 'Fiber optic', 'OnlineSecu...   \n",
       "\n",
       "                                             account  \n",
       "0  {'Contract': 'One year', 'PaperlessBilling': '...  \n",
       "1  {'Contract': 'Month-to-month', 'PaperlessBilli...  \n",
       "2  {'Contract': 'Month-to-month', 'PaperlessBilli...  \n",
       "3  {'Contract': 'Month-to-month', 'PaperlessBilli...  \n",
       "4  {'Contract': 'Month-to-month', 'PaperlessBilli...  "
      ]
     },
     "execution_count": 2,
     "metadata": {},
     "output_type": "execute_result"
    }
   ],
   "source": [
    "dados = pd.read_json('https://raw.githubusercontent.com/sthemonica/alura-voz/main/Dados/Telco-Customer-Churn.json')\n",
    "dados.head()"
   ]
  },
  {
   "cell_type": "markdown",
   "id": "8cb72d78",
   "metadata": {},
   "source": [
    "## Acessando dados para análise posterior [concatenação]"
   ]
  },
  {
   "cell_type": "code",
   "execution_count": 3,
   "id": "6099ad25",
   "metadata": {},
   "outputs": [
    {
     "name": "stdout",
     "output_type": "stream",
     "text": [
      "<class 'pandas.core.frame.DataFrame'>\n",
      "RangeIndex: 7267 entries, 0 to 7266\n",
      "Data columns (total 21 columns):\n",
      " #   Column            Non-Null Count  Dtype  \n",
      "---  ------            --------------  -----  \n",
      " 0   customerID        7267 non-null   object \n",
      " 1   Churn             7267 non-null   object \n",
      " 2   gender            7267 non-null   object \n",
      " 3   SeniorCitizen     7267 non-null   int64  \n",
      " 4   Partner           7267 non-null   object \n",
      " 5   Dependents        7267 non-null   object \n",
      " 6   tenure            7267 non-null   int64  \n",
      " 7   PhoneService      7267 non-null   object \n",
      " 8   MultipleLines     7267 non-null   object \n",
      " 9   InternetService   7267 non-null   object \n",
      " 10  OnlineSecurity    7267 non-null   object \n",
      " 11  OnlineBackup      7267 non-null   object \n",
      " 12  DeviceProtection  7267 non-null   object \n",
      " 13  TechSupport       7267 non-null   object \n",
      " 14  StreamingTV       7267 non-null   object \n",
      " 15  StreamingMovies   7267 non-null   object \n",
      " 16  Contract          7267 non-null   object \n",
      " 17  PaperlessBilling  7267 non-null   object \n",
      " 18  PaymentMethod     7267 non-null   object \n",
      " 19  Charges.Monthly   7267 non-null   float64\n",
      " 20  Charges.Total     7267 non-null   object \n",
      "dtypes: float64(1), int64(2), object(18)\n",
      "memory usage: 1.2+ MB\n"
     ]
    }
   ],
   "source": [
    "# acessando dados dos dicionários com json_normalize\n",
    "customer = json_normalize(dados['customer'])\n",
    "phone = json_normalize(dados['phone'])\n",
    "internet = json_normalize(dados['internet'])\n",
    "account = json_normalize(dados['account'])\n",
    "cust_churn = dados[['customerID', 'Churn']]\n",
    "\n",
    "# Concatenando DataFrames anteriores em um único\n",
    "dados = pd.concat([cust_churn, customer, phone, internet, account], axis=1)\n",
    "\n",
    "# Primeira Vizualização dos dados\n",
    "dados.info()"
   ]
  },
  {
   "cell_type": "markdown",
   "id": "9444cc08",
   "metadata": {},
   "source": [
    "Os dados apresentam `7257` observações, e `21` colunas."
   ]
  },
  {
   "cell_type": "code",
   "execution_count": 7,
   "id": "3d8ad7a5",
   "metadata": {},
   "outputs": [
    {
     "data": {
      "text/plain": [
       "customerID          0\n",
       "Churn               0\n",
       "gender              0\n",
       "SeniorCitizen       0\n",
       "Partner             0\n",
       "Dependents          0\n",
       "tenure              0\n",
       "PhoneService        0\n",
       "MultipleLines       0\n",
       "InternetService     0\n",
       "OnlineSecurity      0\n",
       "OnlineBackup        0\n",
       "DeviceProtection    0\n",
       "TechSupport         0\n",
       "StreamingTV         0\n",
       "StreamingMovies     0\n",
       "Contract            0\n",
       "PaperlessBilling    0\n",
       "PaymentMethod       0\n",
       "Charges.Monthly     0\n",
       "Charges.Total       0\n",
       "dtype: int64"
      ]
     },
     "execution_count": 7,
     "metadata": {},
     "output_type": "execute_result"
    }
   ],
   "source": [
    "# Verificando dados nulas\n",
    "dados.isna().sum()"
   ]
  },
  {
   "cell_type": "markdown",
   "id": "d9f8ca1c",
   "metadata": {},
   "source": [
    "Aparentemente não há dados nulos."
   ]
  },
  {
   "cell_type": "code",
   "execution_count": 8,
   "id": "fdd87231",
   "metadata": {},
   "outputs": [
    {
     "name": "stdout",
     "output_type": "stream",
     "text": [
      "Quantidade de dados duplicados: 0\n"
     ]
    }
   ],
   "source": [
    "# Dados duplicados\n",
    "print(\"Quantidade de dados duplicados: \" + str(dados.duplicated().sum()))"
   ]
  },
  {
   "cell_type": "code",
   "execution_count": 10,
   "id": "4728c76d",
   "metadata": {},
   "outputs": [
    {
     "name": "stdout",
     "output_type": "stream",
     "text": [
      "customerID :\n",
      "['0002-ORFBO' '0003-MKNFE' '0004-TLHLJ' ... '9992-UJOEL' '9993-LHIEB'\n",
      " '9995-HOTOH']\n",
      "####\n",
      "Churn :\n",
      "['No' 'Yes' '']\n",
      "####\n",
      "gender :\n",
      "['Female' 'Male']\n",
      "####\n",
      "SeniorCitizen :\n",
      "[0 1]\n",
      "####\n",
      "Partner :\n",
      "['Yes' 'No']\n",
      "####\n",
      "Dependents :\n",
      "['Yes' 'No']\n",
      "####\n",
      "tenure :\n",
      "[ 9  4 13  3 71 63  7 65 54 72  5 56 34  1 45 50 23 55 26 69 11 37 49 66\n",
      " 67 20 43 59 12 27  2 25 29 14 35 64 39 40  6 30 70 57 58 16 32 33 10 21\n",
      " 61 15 44 22 24 19 47 62 46 52  8 60 48 28 41 53 68 51 31 36 17 18 38 42\n",
      "  0]\n",
      "####\n",
      "PhoneService :\n",
      "['Yes' 'No']\n",
      "####\n",
      "MultipleLines :\n",
      "['No' 'Yes' 'No phone service']\n",
      "####\n",
      "InternetService :\n",
      "['DSL' 'Fiber optic' 'No']\n",
      "####\n",
      "OnlineSecurity :\n",
      "['No' 'Yes' 'No internet service']\n",
      "####\n",
      "OnlineBackup :\n",
      "['Yes' 'No' 'No internet service']\n",
      "####\n",
      "DeviceProtection :\n",
      "['No' 'Yes' 'No internet service']\n",
      "####\n",
      "TechSupport :\n",
      "['Yes' 'No' 'No internet service']\n",
      "####\n",
      "StreamingTV :\n",
      "['Yes' 'No' 'No internet service']\n",
      "####\n",
      "StreamingMovies :\n",
      "['No' 'Yes' 'No internet service']\n",
      "####\n",
      "Contract :\n",
      "['One year' 'Month-to-month' 'Two year']\n",
      "####\n",
      "PaperlessBilling :\n",
      "['Yes' 'No']\n",
      "####\n",
      "PaymentMethod :\n",
      "['Mailed check' 'Electronic check' 'Credit card (automatic)'\n",
      " 'Bank transfer (automatic)']\n",
      "####\n",
      "Charges.Monthly :\n",
      "[65.6  59.9  73.9  ... 91.75 68.8  67.85]\n",
      "####\n",
      "Charges.Total :\n",
      "['593.3' '542.4' '280.85' ... '742.9' '4627.65' '3707.6']\n",
      "####\n"
     ]
    }
   ],
   "source": [
    "# verificando valores únicos constantes em cada coluna:\n",
    "for column in dados:\n",
    "    print('{} :\\n{}'.format(column, dados[column].unique()))\n",
    "    print('''####''')"
   ]
  },
  {
   "cell_type": "code",
   "execution_count": 12,
   "id": "43dc5982",
   "metadata": {},
   "outputs": [
    {
     "data": {
      "text/plain": [
       "No     5174\n",
       "Yes    1869\n",
       "        224\n",
       "Name: Churn, dtype: int64"
      ]
     },
     "execution_count": 12,
     "metadata": {},
     "output_type": "execute_result"
    }
   ],
   "source": [
    "# Com a análise das colunas acima é possível verificar que a coluna CHURN, apresenta valores de strings vazias:\n",
    "dados.Churn.value_counts()"
   ]
  },
  {
   "cell_type": "code",
   "execution_count": 14,
   "id": "71e7f33c",
   "metadata": {},
   "outputs": [
    {
     "name": "stdout",
     "output_type": "stream",
     "text": [
      "O valor de dados vazios representa 0.03% em relação aos dados inteiros.\n"
     ]
    }
   ],
   "source": [
    "print('O valor de dados vazios representa {:.2f}% em relação aos dados inteiros.'.format(dados.Churn.value_counts()[2]/dados.shape[0]))"
   ]
  },
  {
   "cell_type": "code",
   "execution_count": 17,
   "id": "4fdf26c0",
   "metadata": {},
   "outputs": [
    {
     "name": "stdout",
     "output_type": "stream",
     "text": [
      "Observações resultantes: 7043\n"
     ]
    }
   ],
   "source": [
    "# Excluindo dados vazios:\n",
    "dados = dados[~(dados['Churn'] == \"\")]\n",
    "print('Observações resultantes: {}'.format(dados.shape[0]))\n",
    "\n",
    "# Há modos mais simples de realizar a exclusão dos dados, mas por alguma razão eles não estavam funcionando."
   ]
  },
  {
   "cell_type": "markdown",
   "id": "fd49fee3",
   "metadata": {},
   "source": [
    "#### Dicionário de dados\n",
    "\n",
    "* `customerID`: número de identificação único de cada cliente\n",
    "* `Churn`: se o cliente deixou ou não a empresa \n",
    "* `gender`: gênero (masculino e feminino) \n",
    "* `SeniorCitizen`: informação sobre um cliente ter ou não idade igual ou maior que 65 anos \n",
    "* `Partner`:  se o cliente possui ou não um parceiro ou parceira\n",
    "* `Dependents`: se o cliente possui ou não dependentes\n",
    "* `tenure`:  meses de contrato do cliente\n",
    "* `PhoneService`: assinatura de serviço telefônico \n",
    "* `MultipleLines`: assisnatura de mais de uma linha de telefone \n",
    "* `InternetService`: assinatura de um provedor internet \n",
    "* `OnlineSecurity`: assinatura adicional de segurança online \n",
    "* `OnlineBackup`: assinatura adicional de backup online \n",
    "* `DeviceProtection`: assinatura adicional de proteção no dispositivo \n",
    "* `TechSupport`: assinatura adicional de suporte técnico, menos tempo de espera\n",
    "* `StreamingTV`: assinatura de TV a cabo \n",
    "* `StreamingMovies`: assinatura de streaming de filmes \n",
    "* `Contract`: tipo de contrato\n",
    "* `PaperlessBilling`: se o cliente prefere receber online a fatura\n",
    "* `PaymentMethod`: forma de pagamento\n",
    "* `Charges.Monthly`: total de todos os serviços do cliente por mês\n",
    "* `Charges.Total`: total gasto pelo cliente"
   ]
  },
  {
   "cell_type": "markdown",
   "id": "8f1c0b7a",
   "metadata": {},
   "source": [
    "# Transformando dados"
   ]
  },
  {
   "cell_type": "code",
   "execution_count": 22,
   "id": "5bfff4a1",
   "metadata": {},
   "outputs": [
    {
     "name": "stdout",
     "output_type": "stream",
     "text": [
      "0.002%\n"
     ]
    }
   ],
   "source": [
    "# transformando dados em numéricos\n",
    "dados['Charges.Total'] = pd.to_numeric(dados['Charges.Total'],downcast=\"integer\", errors='coerce')\n",
    "\n",
    "# após a transformação dos dados numéricos, apareceram dados incoerentes:\n",
    "print(\"{:.3f}%\".format(dados['Charges.Total'].isna().sum() / dados['Charges.Total'].shape[0]))\n",
    "\n",
    "# e em razão da insignificância para o todo, resolvo excluí-los.\n",
    "\n",
    "# Excluindo dados inconsistentes:\n",
    "dados = dados[dados['Charges.Total'].isna()==False]"
   ]
  },
  {
   "cell_type": "markdown",
   "id": "a59ee3dc",
   "metadata": {},
   "source": [
    "## Tradução dos valores e colunas"
   ]
  },
  {
   "cell_type": "code",
   "execution_count": 26,
   "id": "d748e645",
   "metadata": {},
   "outputs": [],
   "source": [
    "# dicionário responsável pela tradução das colunas:\n",
    "traduz_coluna = {'customerID': 'ID Cliente', 'gender': 'gênero', 'SeniorCitizen': 'idoso', 'Partner': 'Parceiro',\n",
    "          'Dependents': 'Dependentes', 'tenure': 'Meses contrato', 'PhoneService': 'Serviço telefone', 'MultipleLines': 'Linhas multiplas',\n",
    "          'InternetService': 'Serviço Internet', 'OnlineSecurity': 'Segurança Online', 'OnlineBackup': 'Backup Online', 'DeviceProtection': 'Dispositivo_Proteção',\n",
    "          'TechSupport': 'Suporte Técnico', 'StreamingTV': 'Tv Streaming', 'StreamingMovies': 'Filmes Streaming', 'Contract':'Contrato', 'PaperlessBilling': 'Conta Papel', \n",
    "                 'PaymentMethod': 'Método pagamento', 'Charges.Monthly':'Cobrança Mensal','Charges.Total':'Cobrança Total'}\n",
    "\n",
    "# Traduzindo colunas\n",
    "dados.rename(columns=traduz_coluna, inplace=True)"
   ]
  },
  {
   "cell_type": "code",
   "execution_count": 27,
   "id": "0a72d2d3",
   "metadata": {},
   "outputs": [],
   "source": [
    "# Categorizando dados binários:\n",
    "dados['idoso'].replace({0: 'Não', 1: 'Sim'}, inplace=True)"
   ]
  },
  {
   "cell_type": "code",
   "execution_count": 28,
   "id": "97ffe83b",
   "metadata": {},
   "outputs": [],
   "source": [
    "# Traduzindo valores\n",
    "tradução = {'No': 'Não', 'Yes': 'Sim', 'Male': 'Homem', 'Female': 'Mulher', \n",
    "              'Fiber optic': 'Fibra óptica', 'No internet service': 'Sem serviço', \n",
    "             'One year': 'Um ano', 'Month-to-month': 'Mês a mês', 'Two year': 'Dois anos',\n",
    "             'Mailed check': 'Correspondência', 'Electronic check': 'Eletrônico', \n",
    "            'Credit card (automatic)': 'Cartão de Crédito', 'Bank transfer (automatic)': 'Transferência Bancária',\n",
    "            'No phone service': 'Sem serviço'}\n",
    "\n",
    "\n",
    "dados.replace(tradução, inplace=True)"
   ]
  },
  {
   "cell_type": "code",
   "execution_count": 30,
   "id": "563a4261",
   "metadata": {},
   "outputs": [],
   "source": [
    "# Criando coluna Cobrança diária\n",
    "dados['Cobrança diária'] = dados['Cobrança Mensal']/30"
   ]
  },
  {
   "cell_type": "code",
   "execution_count": 31,
   "id": "261102bd",
   "metadata": {},
   "outputs": [],
   "source": [
    "# Exportando dados para arquivo CSV\n",
    "dados.to_csv('Tratamento_alura_voz.csv', index=False)"
   ]
  },
  {
   "cell_type": "code",
   "execution_count": null,
   "id": "37572e8d",
   "metadata": {},
   "outputs": [],
   "source": []
  }
 ],
 "metadata": {
  "kernelspec": {
   "display_name": "Python 3 (ipykernel)",
   "language": "python",
   "name": "python3"
  },
  "language_info": {
   "codemirror_mode": {
    "name": "ipython",
    "version": 3
   },
   "file_extension": ".py",
   "mimetype": "text/x-python",
   "name": "python",
   "nbconvert_exporter": "python",
   "pygments_lexer": "ipython3",
   "version": "3.9.7"
  }
 },
 "nbformat": 4,
 "nbformat_minor": 5
}
