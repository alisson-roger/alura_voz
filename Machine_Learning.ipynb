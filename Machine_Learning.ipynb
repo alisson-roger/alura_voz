{
 "cells": [
  {
   "cell_type": "markdown",
   "id": "3aa9be94",
   "metadata": {},
   "source": [
    "# Importando dependências"
   ]
  },
  {
   "cell_type": "code",
   "execution_count": 1,
   "id": "f9f98e07",
   "metadata": {},
   "outputs": [],
   "source": [
    "import pandas as pd\n",
    "import seaborn as sns\n",
    "import matplotlib.pyplot as plt\n",
    "from imblearn.over_sampling import RandomOverSampler\n",
    "from sklearn.preprocessing import OneHotEncoder\n",
    "from sklearn.preprocessing import LabelEncoder\n",
    "from sklearn.feature_selection import SelectKBest\n",
    "from sklearn.feature_selection import f_classif\n",
    "from sklearn.model_selection import train_test_split\n",
    "from sklearn.dummy import DummyClassifier\n",
    "from sklearn.metrics import confusion_matrix\n",
    "from sklearn.linear_model import LogisticRegression\n",
    "from sklearn.model_selection import RepeatedStratifiedKFold\n",
    "from sklearn.model_selection import GridSearchCV\n",
    "from sklearn.ensemble import BaggingClassifier\n",
    "from sklearn.ensemble import RandomForestClassifier"
   ]
  },
  {
   "cell_type": "code",
   "execution_count": 5,
   "id": "b9e74a82",
   "metadata": {},
   "outputs": [
    {
     "data": {
      "text/html": [
       "<div><div id=082341e6-8c98-4629-8bb8-34ea06a05260 style=\"display:none; background-color:#9D6CFF; color:white; width:200px; height:30px; padding-left:5px; border-radius:4px; flex-direction:row; justify-content:space-around; align-items:center;\" onmouseover=\"this.style.backgroundColor='#BA9BF8'\" onmouseout=\"this.style.backgroundColor='#9D6CFF'\" onclick=\"window.commands?.execute('create-mitosheet-from-dataframe-output');\">See Full Dataframe in Mito</div> <script> if (window.commands?.hasCommand('create-mitosheet-from-dataframe-output')) document.getElementById('082341e6-8c98-4629-8bb8-34ea06a05260').style.display = 'flex' </script> <table border=\"1\" class=\"dataframe\">\n",
       "  <thead>\n",
       "    <tr style=\"text-align: right;\">\n",
       "      <th></th>\n",
       "      <th>Churn</th>\n",
       "      <th>gênero</th>\n",
       "      <th>idoso</th>\n",
       "      <th>Parceiro</th>\n",
       "      <th>Dependentes</th>\n",
       "      <th>Meses contrato</th>\n",
       "      <th>Serviço telefone</th>\n",
       "      <th>Linhas multiplas</th>\n",
       "      <th>Serviço Internet</th>\n",
       "      <th>Segurança Online</th>\n",
       "      <th>...</th>\n",
       "      <th>Dispositivo_Proteção</th>\n",
       "      <th>Suporte Técnico</th>\n",
       "      <th>Tv Streaming</th>\n",
       "      <th>Filmes Streaming</th>\n",
       "      <th>Contrato</th>\n",
       "      <th>Conta Papel</th>\n",
       "      <th>Método pagamento</th>\n",
       "      <th>Cobrança Mensal</th>\n",
       "      <th>Cobrança Total</th>\n",
       "      <th>Cobrança diária</th>\n",
       "    </tr>\n",
       "  </thead>\n",
       "  <tbody>\n",
       "    <tr>\n",
       "      <th>0</th>\n",
       "      <td>Não</td>\n",
       "      <td>Mulher</td>\n",
       "      <td>Não</td>\n",
       "      <td>Sim</td>\n",
       "      <td>Sim</td>\n",
       "      <td>9</td>\n",
       "      <td>Sim</td>\n",
       "      <td>Não</td>\n",
       "      <td>DSL</td>\n",
       "      <td>Não</td>\n",
       "      <td>...</td>\n",
       "      <td>Não</td>\n",
       "      <td>Sim</td>\n",
       "      <td>Sim</td>\n",
       "      <td>Não</td>\n",
       "      <td>Um ano</td>\n",
       "      <td>Sim</td>\n",
       "      <td>Correspondência</td>\n",
       "      <td>65.6</td>\n",
       "      <td>593.30</td>\n",
       "      <td>2.186667</td>\n",
       "    </tr>\n",
       "    <tr>\n",
       "      <th>1</th>\n",
       "      <td>Não</td>\n",
       "      <td>Homem</td>\n",
       "      <td>Não</td>\n",
       "      <td>Não</td>\n",
       "      <td>Não</td>\n",
       "      <td>9</td>\n",
       "      <td>Sim</td>\n",
       "      <td>Sim</td>\n",
       "      <td>DSL</td>\n",
       "      <td>Não</td>\n",
       "      <td>...</td>\n",
       "      <td>Não</td>\n",
       "      <td>Não</td>\n",
       "      <td>Não</td>\n",
       "      <td>Sim</td>\n",
       "      <td>Mês a mês</td>\n",
       "      <td>Não</td>\n",
       "      <td>Correspondência</td>\n",
       "      <td>59.9</td>\n",
       "      <td>542.40</td>\n",
       "      <td>1.996667</td>\n",
       "    </tr>\n",
       "    <tr>\n",
       "      <th>2</th>\n",
       "      <td>Sim</td>\n",
       "      <td>Homem</td>\n",
       "      <td>Não</td>\n",
       "      <td>Não</td>\n",
       "      <td>Não</td>\n",
       "      <td>4</td>\n",
       "      <td>Sim</td>\n",
       "      <td>Não</td>\n",
       "      <td>Fibra óptica</td>\n",
       "      <td>Não</td>\n",
       "      <td>...</td>\n",
       "      <td>Sim</td>\n",
       "      <td>Não</td>\n",
       "      <td>Não</td>\n",
       "      <td>Não</td>\n",
       "      <td>Mês a mês</td>\n",
       "      <td>Sim</td>\n",
       "      <td>Eletrônico</td>\n",
       "      <td>73.9</td>\n",
       "      <td>280.85</td>\n",
       "      <td>2.463333</td>\n",
       "    </tr>\n",
       "    <tr>\n",
       "      <th>3</th>\n",
       "      <td>Sim</td>\n",
       "      <td>Homem</td>\n",
       "      <td>Sim</td>\n",
       "      <td>Sim</td>\n",
       "      <td>Não</td>\n",
       "      <td>13</td>\n",
       "      <td>Sim</td>\n",
       "      <td>Não</td>\n",
       "      <td>Fibra óptica</td>\n",
       "      <td>Não</td>\n",
       "      <td>...</td>\n",
       "      <td>Sim</td>\n",
       "      <td>Não</td>\n",
       "      <td>Sim</td>\n",
       "      <td>Sim</td>\n",
       "      <td>Mês a mês</td>\n",
       "      <td>Sim</td>\n",
       "      <td>Eletrônico</td>\n",
       "      <td>98.0</td>\n",
       "      <td>1237.85</td>\n",
       "      <td>3.266667</td>\n",
       "    </tr>\n",
       "    <tr>\n",
       "      <th>4</th>\n",
       "      <td>Sim</td>\n",
       "      <td>Mulher</td>\n",
       "      <td>Sim</td>\n",
       "      <td>Sim</td>\n",
       "      <td>Não</td>\n",
       "      <td>3</td>\n",
       "      <td>Sim</td>\n",
       "      <td>Não</td>\n",
       "      <td>Fibra óptica</td>\n",
       "      <td>Não</td>\n",
       "      <td>...</td>\n",
       "      <td>Não</td>\n",
       "      <td>Sim</td>\n",
       "      <td>Sim</td>\n",
       "      <td>Não</td>\n",
       "      <td>Mês a mês</td>\n",
       "      <td>Sim</td>\n",
       "      <td>Correspondência</td>\n",
       "      <td>83.9</td>\n",
       "      <td>267.40</td>\n",
       "      <td>2.796667</td>\n",
       "    </tr>\n",
       "  </tbody>\n",
       "</table></div>"
      ],
      "text/plain": [
       "  Churn  gênero idoso Parceiro Dependentes  Meses contrato Serviço telefone  \\\n",
       "0   Não  Mulher   Não      Sim         Sim               9              Sim   \n",
       "1   Não   Homem   Não      Não         Não               9              Sim   \n",
       "2   Sim   Homem   Não      Não         Não               4              Sim   \n",
       "3   Sim   Homem   Sim      Sim         Não              13              Sim   \n",
       "4   Sim  Mulher   Sim      Sim         Não               3              Sim   \n",
       "\n",
       "  Linhas multiplas Serviço Internet Segurança Online  ...  \\\n",
       "0              Não              DSL              Não  ...   \n",
       "1              Sim              DSL              Não  ...   \n",
       "2              Não     Fibra óptica              Não  ...   \n",
       "3              Não     Fibra óptica              Não  ...   \n",
       "4              Não     Fibra óptica              Não  ...   \n",
       "\n",
       "  Dispositivo_Proteção Suporte Técnico Tv Streaming Filmes Streaming  \\\n",
       "0                  Não             Sim          Sim              Não   \n",
       "1                  Não             Não          Não              Sim   \n",
       "2                  Sim             Não          Não              Não   \n",
       "3                  Sim             Não          Sim              Sim   \n",
       "4                  Não             Sim          Sim              Não   \n",
       "\n",
       "    Contrato Conta Papel Método pagamento Cobrança Mensal  Cobrança Total  \\\n",
       "0     Um ano         Sim  Correspondência            65.6          593.30   \n",
       "1  Mês a mês         Não  Correspondência            59.9          542.40   \n",
       "2  Mês a mês         Sim       Eletrônico            73.9          280.85   \n",
       "3  Mês a mês         Sim       Eletrônico            98.0         1237.85   \n",
       "4  Mês a mês         Sim  Correspondência            83.9          267.40   \n",
       "\n",
       "   Cobrança diária  \n",
       "0         2.186667  \n",
       "1         1.996667  \n",
       "2         2.463333  \n",
       "3         3.266667  \n",
       "4         2.796667  \n",
       "\n",
       "[5 rows x 21 columns]"
      ]
     },
     "execution_count": 5,
     "metadata": {},
     "output_type": "execute_result"
    }
   ],
   "source": [
    "# coletando dados\n",
    "dados = pd.read_csv('Viz_alura_voz.csv')\n",
    "dados.head()"
   ]
  },
  {
   "cell_type": "code",
   "execution_count": 10,
   "id": "04709f40",
   "metadata": {},
   "outputs": [],
   "source": [
    "# Separando dados para pré-processamento\n",
    "## dados\n",
    "X = dados.iloc[:,1:]\n",
    "y = dados.iloc[:,0]"
   ]
  },
  {
   "cell_type": "markdown",
   "id": "221472c2",
   "metadata": {},
   "source": [
    "## Balanceamento de dados"
   ]
  },
  {
   "cell_type": "code",
   "execution_count": 11,
   "id": "106aa359",
   "metadata": {},
   "outputs": [
    {
     "name": "stdout",
     "output_type": "stream",
     "text": [
      "Desbalanceamento dos dados: 36.20%\n"
     ]
    }
   ],
   "source": [
    "print(\"Desbalanceamento dos dados: {:.2f}%\".format(dados.Churn.value_counts()[1]/dados.Churn.value_counts()[0]*100))"
   ]
  },
  {
   "cell_type": "markdown",
   "id": "a2168710",
   "metadata": {},
   "source": [
    "---\n",
    "\n",
    "* Segundo Google Developers, **20-40%** de dados desbalanceados é considerado um desbalanceamento **suave**. \n",
    "\n",
    "Obs: fonte :https://developers.google.com/machine-learning/data-prep/construct/sampling-splitting/imbalanced-data\n",
    "\n",
    "---"
   ]
  },
  {
   "cell_type": "code",
   "execution_count": 14,
   "id": "5eaa3ec2",
   "metadata": {},
   "outputs": [
    {
     "data": {
      "text/plain": [
       "((10326, 20), (10326,))"
      ]
     },
     "execution_count": 14,
     "metadata": {},
     "output_type": "execute_result"
    }
   ],
   "source": [
    "# definindo oversampling\n",
    "oversample = RandomOverSampler(sampling_strategy='minority')\n",
    "X_over, y_over = oversample.fit_resample(X, y)\n",
    "X_over.shape, y_over.shape"
   ]
  },
  {
   "cell_type": "code",
   "execution_count": 20,
   "id": "b127b395",
   "metadata": {},
   "outputs": [],
   "source": [
    "# definindo one hot encoding para as variáveis X\n",
    "encoder = OneHotEncoder(sparse=False)\n",
    "\n",
    "# transformando dados\n",
    "X_enc = encoder.fit_transform(X_over.select_dtypes('object'))\n",
    "\n",
    "# definindo label encoder para variável y \n",
    "le = LabelEncoder()\n",
    "\n",
    "# transformando dados\n",
    "le.fit(y_over)\n",
    "y_enc = le.transform(y_over)"
   ]
  },
  {
   "cell_type": "code",
   "execution_count": 25,
   "id": "fadba0bf",
   "metadata": {},
   "outputs": [
    {
     "name": "stdout",
     "output_type": "stream",
     "text": [
      "(10326, 5)\n"
     ]
    }
   ],
   "source": [
    "# Feature Selection (Redução de dimensionalidade)\n",
    "fs = SelectKBest(score_func=f_classif, k=5)\n",
    "\n",
    "# aplicando redução de dimensionalidade\n",
    "X_selected = fs.fit_transform(X_enc, y_enc)\n",
    "print(X_selected.shape)"
   ]
  },
  {
   "cell_type": "code",
   "execution_count": 28,
   "id": "2be5ea4f",
   "metadata": {},
   "outputs": [],
   "source": [
    "# Separando dados em Treino/Teste\n",
    "X_train, X_test, y_train, y_test = train_test_split(X_selected, y_enc, test_size=0.33, random_state=1)"
   ]
  },
  {
   "cell_type": "code",
   "execution_count": 29,
   "id": "d25cfb65",
   "metadata": {},
   "outputs": [
    {
     "data": {
      "text/plain": [
       "((6918, 5), (6918,), (3408, 5), (3408,))"
      ]
     },
     "execution_count": 29,
     "metadata": {},
     "output_type": "execute_result"
    }
   ],
   "source": [
    "# formato do dataset\n",
    "X_train.shape, y_train.shape, X_test.shape, y_test.shape"
   ]
  },
  {
   "cell_type": "markdown",
   "id": "cdaad1aa",
   "metadata": {},
   "source": [
    "### Baseline"
   ]
  },
  {
   "cell_type": "code",
   "execution_count": 32,
   "id": "4353669b",
   "metadata": {},
   "outputs": [
    {
     "data": {
      "text/html": [
       "<style>#sk-container-id-1 {color: black;background-color: white;}#sk-container-id-1 pre{padding: 0;}#sk-container-id-1 div.sk-toggleable {background-color: white;}#sk-container-id-1 label.sk-toggleable__label {cursor: pointer;display: block;width: 100%;margin-bottom: 0;padding: 0.3em;box-sizing: border-box;text-align: center;}#sk-container-id-1 label.sk-toggleable__label-arrow:before {content: \"▸\";float: left;margin-right: 0.25em;color: #696969;}#sk-container-id-1 label.sk-toggleable__label-arrow:hover:before {color: black;}#sk-container-id-1 div.sk-estimator:hover label.sk-toggleable__label-arrow:before {color: black;}#sk-container-id-1 div.sk-toggleable__content {max-height: 0;max-width: 0;overflow: hidden;text-align: left;background-color: #f0f8ff;}#sk-container-id-1 div.sk-toggleable__content pre {margin: 0.2em;color: black;border-radius: 0.25em;background-color: #f0f8ff;}#sk-container-id-1 input.sk-toggleable__control:checked~div.sk-toggleable__content {max-height: 200px;max-width: 100%;overflow: auto;}#sk-container-id-1 input.sk-toggleable__control:checked~label.sk-toggleable__label-arrow:before {content: \"▾\";}#sk-container-id-1 div.sk-estimator input.sk-toggleable__control:checked~label.sk-toggleable__label {background-color: #d4ebff;}#sk-container-id-1 div.sk-label input.sk-toggleable__control:checked~label.sk-toggleable__label {background-color: #d4ebff;}#sk-container-id-1 input.sk-hidden--visually {border: 0;clip: rect(1px 1px 1px 1px);clip: rect(1px, 1px, 1px, 1px);height: 1px;margin: -1px;overflow: hidden;padding: 0;position: absolute;width: 1px;}#sk-container-id-1 div.sk-estimator {font-family: monospace;background-color: #f0f8ff;border: 1px dotted black;border-radius: 0.25em;box-sizing: border-box;margin-bottom: 0.5em;}#sk-container-id-1 div.sk-estimator:hover {background-color: #d4ebff;}#sk-container-id-1 div.sk-parallel-item::after {content: \"\";width: 100%;border-bottom: 1px solid gray;flex-grow: 1;}#sk-container-id-1 div.sk-label:hover label.sk-toggleable__label {background-color: #d4ebff;}#sk-container-id-1 div.sk-serial::before {content: \"\";position: absolute;border-left: 1px solid gray;box-sizing: border-box;top: 0;bottom: 0;left: 50%;z-index: 0;}#sk-container-id-1 div.sk-serial {display: flex;flex-direction: column;align-items: center;background-color: white;padding-right: 0.2em;padding-left: 0.2em;position: relative;}#sk-container-id-1 div.sk-item {position: relative;z-index: 1;}#sk-container-id-1 div.sk-parallel {display: flex;align-items: stretch;justify-content: center;background-color: white;position: relative;}#sk-container-id-1 div.sk-item::before, #sk-container-id-1 div.sk-parallel-item::before {content: \"\";position: absolute;border-left: 1px solid gray;box-sizing: border-box;top: 0;bottom: 0;left: 50%;z-index: -1;}#sk-container-id-1 div.sk-parallel-item {display: flex;flex-direction: column;z-index: 1;position: relative;background-color: white;}#sk-container-id-1 div.sk-parallel-item:first-child::after {align-self: flex-end;width: 50%;}#sk-container-id-1 div.sk-parallel-item:last-child::after {align-self: flex-start;width: 50%;}#sk-container-id-1 div.sk-parallel-item:only-child::after {width: 0;}#sk-container-id-1 div.sk-dashed-wrapped {border: 1px dashed gray;margin: 0 0.4em 0.5em 0.4em;box-sizing: border-box;padding-bottom: 0.4em;background-color: white;}#sk-container-id-1 div.sk-label label {font-family: monospace;font-weight: bold;display: inline-block;line-height: 1.2em;}#sk-container-id-1 div.sk-label-container {text-align: center;}#sk-container-id-1 div.sk-container {/* jupyter's `normalize.less` sets `[hidden] { display: none; }` but bootstrap.min.css set `[hidden] { display: none !important; }` so we also need the `!important` here to be able to override the default hidden behavior on the sphinx rendered scikit-learn.org. See: https://github.com/scikit-learn/scikit-learn/issues/21755 */display: inline-block !important;position: relative;}#sk-container-id-1 div.sk-text-repr-fallback {display: none;}</style><div id=\"sk-container-id-1\" class=\"sk-top-container\"><div class=\"sk-text-repr-fallback\"><pre>DummyClassifier(strategy=&#x27;most_frequent&#x27;)</pre><b>In a Jupyter environment, please rerun this cell to show the HTML representation or trust the notebook. <br />On GitHub, the HTML representation is unable to render, please try loading this page with nbviewer.org.</b></div><div class=\"sk-container\" hidden><div class=\"sk-item\"><div class=\"sk-estimator sk-toggleable\"><input class=\"sk-toggleable__control sk-hidden--visually\" id=\"sk-estimator-id-1\" type=\"checkbox\" checked><label for=\"sk-estimator-id-1\" class=\"sk-toggleable__label sk-toggleable__label-arrow\">DummyClassifier</label><div class=\"sk-toggleable__content\"><pre>DummyClassifier(strategy=&#x27;most_frequent&#x27;)</pre></div></div></div></div></div>"
      ],
      "text/plain": [
       "DummyClassifier(strategy='most_frequent')"
      ]
     },
     "execution_count": 32,
     "metadata": {},
     "output_type": "execute_result"
    }
   ],
   "source": [
    "# Classificador de base\n",
    "dummy_clf = DummyClassifier(strategy=\"most_frequent\")\n",
    "dummy_clf.fit(X_train, y_train)"
   ]
  },
  {
   "cell_type": "code",
   "execution_count": 33,
   "id": "37365b3d",
   "metadata": {},
   "outputs": [],
   "source": [
    "# Y previsto pelo classificador base\n",
    "y_pred = dummy_clf.predict(X_test)"
   ]
  },
  {
   "cell_type": "code",
   "execution_count": 38,
   "id": "368a80aa",
   "metadata": {},
   "outputs": [
    {
     "name": "stdout",
     "output_type": "stream",
     "text": [
      "A taxa de acerto do baseline é : 49.50%\n"
     ]
    }
   ],
   "source": [
    "# Taxa de acerto do classificador \n",
    "print('A taxa de acerto do baseline é : {:.2f}%'.format(dummy_clf.score(X_test, y_test)*100))"
   ]
  },
  {
   "cell_type": "code",
   "execution_count": 41,
   "id": "c0c082d4",
   "metadata": {},
   "outputs": [
    {
     "data": {
      "text/plain": [
       "array([[   0, 1721],\n",
       "       [   0, 1687]], dtype=int64)"
      ]
     },
     "execution_count": 41,
     "metadata": {},
     "output_type": "execute_result"
    }
   ],
   "source": [
    "# Matrix de confusão para analisar as decisões do algoritmo \n",
    "confusion_matrix(y_test, y_pred)"
   ]
  },
  {
   "cell_type": "code",
   "execution_count": 45,
   "id": "25cb3743",
   "metadata": {},
   "outputs": [
    {
     "data": {
      "image/png": "[encoded data removed]",
      "text/plain": [
       "<Figure size 432x288 with 2 Axes>"
      ]
     },
     "metadata": {
      "needs_background": "light"
     },
     "output_type": "display_data"
    }
   ],
   "source": [
    "ax = sns.heatmap(confusion_matrix(y_test, y_pred),annot=True, fmt=\"d\")\n",
    "ax.set(xticklabels=['Positivo', 'Negativo'], yticklabels=['Positivo', 'Negativo'])\n",
    "ax.set_title(\"Matrix de Confusão BASELINE\", y=1.1);\n",
    "plt.gcf().set_size_inches(10, 6)"
   ]
  },
  {
   "cell_type": "markdown",
   "id": "1c603f7e",
   "metadata": {},
   "source": [
    "---\n",
    "\n",
    "* Pelo matrix de confusão pode-se perceber que o algoritmo clássificou todos os dados de uma única maneira e alcancou **49,50%** de acerto com 1687 dados negativos verdadeiros e 1721 falsos positivos.\n",
    "\n",
    "---"
   ]
  },
  {
   "cell_type": "markdown",
   "id": "5c0e1dd8",
   "metadata": {},
   "source": [
    "## Regressão Logística"
   ]
  },
  {
   "cell_type": "code",
   "execution_count": 54,
   "id": "2db40fb6",
   "metadata": {},
   "outputs": [
    {
     "name": "stdout",
     "output_type": "stream",
     "text": [
      "Melhor: 0.742410 parâmetros {'C': 100, 'penalty': 'l2', 'solver': 'newton-cg'}\n"
     ]
    }
   ],
   "source": [
    "# definindo modelos e parâmetros\n",
    "model = LogisticRegression()\n",
    "solvers = ['newton-cg', 'lbfgs', 'liblinear', 'sag', 'saga']\n",
    "penalty = ['l2']\n",
    "\n",
    "c_values = [100, 10, 1.0, 0.1, 0.01]\n",
    "#  grid search\n",
    "\n",
    "grid = dict(solver=solvers,penalty=penalty,C=c_values)\n",
    "cv = RepeatedStratifiedKFold(n_splits=10, n_repeats=3, random_state=1)\n",
    "grid_search = GridSearchCV(estimator=model, param_grid=grid, n_jobs=-1, cv=cv, scoring='accuracy',error_score=0)\n",
    "grid_result1 = grid_search.fit(X_train, y_train)\n",
    "# resumo\n",
    "\n",
    "print(\"Melhor: %f parâmetros %s\" % (grid_result1.best_score_, grid_result1.best_params_))\n",
    "means = grid_result1.cv_results_['mean_test_score']\n",
    "stds = grid_result1.cv_results_['std_test_score']\n",
    "params = grid_result1.cv_results_['params']"
   ]
  },
  {
   "cell_type": "code",
   "execution_count": 61,
   "id": "95f01a74",
   "metadata": {},
   "outputs": [
    {
     "data": {
      "image/png": "[encoded data removed]",
      "text/plain": [
       "<Figure size 720x432 with 2 Axes>"
      ]
     },
     "metadata": {
      "needs_background": "light"
     },
     "output_type": "display_data"
    }
   ],
   "source": [
    "# Gerando matrix de confusão\n",
    "y_hat = grid_result1.predict(X_test)\n",
    "ax = sns.heatmap(confusion_matrix(y_test, y_hat),annot=True, fmt=\"d\")\n",
    "ax.set(xticklabels=['Positivo', 'Negativo'], yticklabels=['Positivo', 'Negativo'])\n",
    "ax.set_title(\"Matrix de Confusão Regressão Logística\", y=1.1);\n",
    "plt.gcf().set_size_inches(10, 6)"
   ]
  },
  {
   "cell_type": "markdown",
   "id": "e9876dd8",
   "metadata": {},
   "source": [
    "---\n",
    "\n",
    "* Analisando a matrix de confusão do algoritmo de **Regressão Logística**, chegamos a conclusão que foram 1230 positivos verdadeiros e 491 de falsos positivos, 357 falsos negativos e 1330 verdadeiros negativos. Pontuando **74,69%** de acuracidade.\n",
    "\n",
    "---"
   ]
  },
  {
   "cell_type": "markdown",
   "id": "791d4306",
   "metadata": {},
   "source": [
    "## Árvore de Classificação"
   ]
  },
  {
   "cell_type": "code",
   "execution_count": 64,
   "id": "76062a84",
   "metadata": {},
   "outputs": [
    {
     "name": "stdout",
     "output_type": "stream",
     "text": [
      "Best: 0.744963 using {'n_estimators': 10}\n"
     ]
    }
   ],
   "source": [
    "# definindo modelos e parâmetros\n",
    "model = BaggingClassifier()\n",
    "n_estimators = [10, 100, 1000]\n",
    "\n",
    "# grid search\n",
    "grid = dict(n_estimators=n_estimators)\n",
    "cv = RepeatedStratifiedKFold(n_splits=10, n_repeats=3, random_state=1)\n",
    "grid_search = GridSearchCV(estimator=model, param_grid=grid, n_jobs=-1, cv=cv, scoring='accuracy',error_score=0)\n",
    "grid_result2 = grid_search.fit(X_train, y_train)\n",
    "\n",
    "# Resumo\n",
    "print(\"Melhor: %f parâmetros %s\" (grid_result2.best_score_, grid_result2.best_params_))\n",
    "means = grid_result2.cv_results_['mean_test_score']\n",
    "stds = grid_result2.cv_results_['std_test_score']\n",
    "params = grid_result2.cv_results_['params']"
   ]
  },
  {
   "cell_type": "code",
   "execution_count": 66,
   "id": "f9f7c8ac",
   "metadata": {},
   "outputs": [
    {
     "data": {
      "image/png": "[encoded data removed]",
      "text/plain": [
       "<Figure size 720x432 with 2 Axes>"
      ]
     },
     "metadata": {
      "needs_background": "light"
     },
     "output_type": "display_data"
    }
   ],
   "source": [
    "# matrix de confusão\n",
    "grid_result2.score(X_test, y_test)\n",
    "confusion_matrix(y_test, y_hat)\n",
    "ax = sns.heatmap(confusion_matrix(y_test, y_hat),annot=True, fmt=\"d\")\n",
    "ax.set(xticklabels=['Positivo', 'Negativo'], yticklabels=['Positivo', 'Negativo'])\n",
    "ax.set_title(\"Matrix de Confusão Árvore de classificação\", y=1.1);\n",
    "plt.gcf().set_size_inches(10, 6)"
   ]
  },
  {
   "cell_type": "markdown",
   "id": "6d9197a9",
   "metadata": {},
   "source": [
    "---\n",
    "\n",
    "* Como podemos ver, o modelo de Árvore de Classificação não apresentou diferenças do modelo anterior.\n",
    "\n",
    "---"
   ]
  },
  {
   "cell_type": "markdown",
   "id": "d725ddf7",
   "metadata": {},
   "source": [
    "### Resumo"
   ]
  },
  {
   "cell_type": "code",
   "execution_count": 94,
   "id": "aff305f9",
   "metadata": {},
   "outputs": [
    {
     "name": "stdout",
     "output_type": "stream",
     "text": [
      "A pontuação dos classificadores foram:\n",
      "Baseline: 49.50\n",
      "Regressão Logística: 74.24\n",
      "Árvore de Classificação: 74.50\n"
     ]
    }
   ],
   "source": [
    "print('A pontuação dos classificadores foram:\\nBaseline: {:.2f}\\nRegressão Logística: {:.2f}\\nÁrvore de Classificação: {:.2f}'.format(dummy_clf.score(X_test, y_test)*100, grid_result1.best_score_*100, grid_result2.best_score_*100))"
   ]
  },
  {
   "cell_type": "markdown",
   "id": "1efb2af3",
   "metadata": {},
   "source": [
    "* Em resumo o melhor classificador pode alcançar até **74,50% de acurácia na previsão dos dados.**"
   ]
  },
  {
   "cell_type": "code",
   "execution_count": null,
   "id": "2f852907",
   "metadata": {},
   "outputs": [],
   "source": []
  }
 ],
 "metadata": {
  "kernelspec": {
   "display_name": "Python 3 (ipykernel)",
   "language": "python",
   "name": "python3"
  },
  "language_info": {
   "codemirror_mode": {
    "name": "ipython",
    "version": 3
   },
   "file_extension": ".py",
   "mimetype": "text/x-python",
   "name": "python",
   "nbconvert_exporter": "python",
   "pygments_lexer": "ipython3",
   "version": "3.9.7"
  }
 },
 "nbformat": 4,
 "nbformat_minor": 5
}
